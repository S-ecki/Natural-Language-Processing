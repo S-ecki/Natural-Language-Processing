{
 "cells": [
  {
   "cell_type": "markdown",
   "metadata": {},
   "source": [
    "# Natural Language Processing\n",
    "\n",
    "## Exercise Sheet 7"
   ]
  },
  {
   "cell_type": "code",
   "execution_count": 19,
   "metadata": {},
   "outputs": [],
   "source": [
    "#imports for all exercises\n",
    "import nltk"
   ]
  },
  {
   "cell_type": "markdown",
   "metadata": {},
   "source": [
    "### Exercise 1\n",
    "\n",
    "Extend the chunk grammar"
   ]
  },
  {
   "cell_type": "code",
   "execution_count": 20,
   "metadata": {},
   "outputs": [],
   "source": [
    "grammar = \"NP: {<DT>?<JJ>*<NN>}\""
   ]
  },
  {
   "cell_type": "markdown",
   "metadata": {},
   "source": [
    "to also match noun phrases containing plural head nouns. Test your grammar with the following sentences:"
   ]
  },
  {
   "cell_type": "code",
   "execution_count": 39,
   "metadata": {},
   "outputs": [],
   "source": [
    "sentence1 = [(\"many\", \"JJ\"), (\"dogs\", \"NNS\"), (\"barked\", \"VBD\"), (\"at\", \"IN\"), (\"the\", \"DT\"), (\"cat\", \"NN\")]\n",
    "sentence2 = [(\"two\", \"CD\"), (\"dogs\", \"NNS\"), (\"barked\", \"VBD\"), (\"at\", \"IN\"), (\"the\", \"DT\"), (\"cat\", \"NN\")]\n",
    "sentence3 = [(\"both\", \"DT\"), (\"new\", \"JJ\"), (\"dogs\", \"NNS\"), (\"barked\", \"VBD\"),(\"at\", \"IN\"),  (\"the\", \"DT\"), \n",
    "             (\"cat\", \"NN\")]"
   ]
  },
  {
   "cell_type": "code",
   "execution_count": 41,
   "metadata": {},
   "outputs": [],
   "source": [
    "grammar = \"NP: {<DT>?<JJ>*<NN|NNS>}\"\n",
    "cp = nltk.RegexpParser(grammar)"
   ]
  },
  {
   "cell_type": "code",
   "execution_count": 42,
   "metadata": {},
   "outputs": [
    {
     "name": "stdout",
     "output_type": "stream",
     "text": [
      "(S (NP many/JJ dogs/NNS) barked/VBD at/IN (NP the/DT cat/NN))\n",
      "(S two/CD (NP dogs/NNS) barked/VBD at/IN (NP the/DT cat/NN))\n",
      "(S (NP both/DT new/JJ dogs/NNS) barked/VBD at/IN (NP the/DT cat/NN))\n"
     ]
    }
   ],
   "source": [
    "sentences = [sentence1, sentence2, sentence3]\n",
    "\n",
    "for s in sentences:\n",
    "    print(cp.parse(s))"
   ]
  },
  {
   "cell_type": "markdown",
   "metadata": {},
   "source": [
    "### Exercise 2\n",
    "\n",
    "Extend the grammar from Exercise 1 to also cover noun phrases that contain gerunds. Test your grammar with the following sentences and the sentences from Exercise 1:"
   ]
  },
  {
   "cell_type": "code",
   "execution_count": 51,
   "metadata": {},
   "outputs": [],
   "source": [
    "sentence4 = [(\"many\", \"JJ\"), (\"dogs\", \"NNS\"), (\"barked\", \"VBD\"), (\"at\", \"IN\"), \n",
    "             (\"the\", \"DT\"), (\"meowing\", \"VBG\"), (\"cat\", \"NN\")]\n",
    "sentence5 = [(\"the\", \"DT\"), (\"man\", \"NN\"), (\"wants\", \"VBZ\"), (\"to\", \"TO\"), (\"become\", \"VB\"), \n",
    "             (\"assistant\", \"NN\"), (\"managing\", \"VBG\"), (\"director\", \"NN\")] "
   ]
  },
  {
   "cell_type": "code",
   "execution_count": 73,
   "metadata": {},
   "outputs": [],
   "source": [
    "grammar = \"NP: {<DT>?<JJ>*<NN.*|VBG>*<NN|NNS>}\"\n",
    "cp = nltk.RegexpParser(grammar)"
   ]
  },
  {
   "cell_type": "code",
   "execution_count": 74,
   "metadata": {},
   "outputs": [
    {
     "name": "stdout",
     "output_type": "stream",
     "text": [
      "(S (NP many/JJ dogs/NNS) barked/VBD at/IN (NP the/DT cat/NN))\n",
      "(S two/CD (NP dogs/NNS) barked/VBD at/IN (NP the/DT cat/NN))\n",
      "(S (NP both/DT new/JJ dogs/NNS) barked/VBD at/IN (NP the/DT cat/NN))\n",
      "(S\n",
      "  (NP many/JJ dogs/NNS)\n",
      "  barked/VBD\n",
      "  at/IN\n",
      "  (NP the/DT meowing/VBG cat/NN))\n",
      "(S\n",
      "  (NP the/DT man/NN)\n",
      "  wants/VBZ\n",
      "  to/TO\n",
      "  become/VB\n",
      "  (NP assistant/NN managing/VBG director/NN))\n"
     ]
    }
   ],
   "source": [
    "sentences = [sentence1, sentence2, sentence3, sentence4, sentence5]\n",
    "\n",
    "for s in sentences:\n",
    "    print(cp.parse(s))"
   ]
  },
  {
   "cell_type": "markdown",
   "metadata": {},
   "source": [
    "### Exercise 3\n",
    "\n",
    "Extend the grammar from Exercise 2 to also  handle coordinated noun phrases. Test your grammar with the following sentences and the sentences from Exercise 1 and 2:"
   ]
  },
  {
   "cell_type": "code",
   "execution_count": 62,
   "metadata": {},
   "outputs": [],
   "source": [
    "sentence6 = [(\"the\", \"DT\"), (\"man\", \"NN\"), (\"wants\", \"VBZ\"), (\"to\", \"TO\"), (\"leave\", \"VB\"),  (\"in\", \"IN\"), \n",
    "             (\"July\", \"NNP\"), (\"or\", \"CC\"), (\"August\", \"NNP\")]\n",
    "sentence7 = [(\"Donald\", \"NNP\"), (\"fired\", \"VBD\"), (\"all\", \"PDT\"), (\"your\", \"PRP$\"), (\"managers\", \"NNS\"), \n",
    "             (\"and\", \"CC\"), (\"supervisors\", \"NNS\")]\n",
    "sentence8 = [(\"company\", \"NN\"), (\"personnel\", \"NN\"), (\"policy\", \"NN\"), (\"has\", \"VBZ\"), (\"always\", \"RB\"), \n",
    "             (\"been\", \"VBN\"), (\"the\", \"DT\"), (\"law\", \"NN\"), (\"that\", \"WDT\"), (\"rules\", \"VBZ\"), \n",
    "             (\"company\", \"NN\"),  (\"courts\", \"NN\"), (\"and\", \"CC\"), (\"adjudicators\", \"NNS\")]"
   ]
  },
  {
   "cell_type": "code",
   "execution_count": 77,
   "metadata": {},
   "outputs": [],
   "source": [
    "grammar = \"NP: {<DT>?<JJ>*<NN.*>+<VBG|NN.*>*(<CC><NN.*>)*}\"\n",
    "cp = nltk.RegexpParser(grammar)"
   ]
  },
  {
   "cell_type": "code",
   "execution_count": 78,
   "metadata": {},
   "outputs": [
    {
     "name": "stdout",
     "output_type": "stream",
     "text": [
      "(S (NP many/JJ dogs/NNS) barked/VBD at/IN (NP the/DT cat/NN))\n",
      "(S two/CD (NP dogs/NNS) barked/VBD at/IN (NP the/DT cat/NN))\n",
      "(S (NP both/DT new/JJ dogs/NNS) barked/VBD at/IN (NP the/DT cat/NN))\n",
      "(S\n",
      "  (NP many/JJ dogs/NNS)\n",
      "  barked/VBD\n",
      "  at/IN\n",
      "  the/DT\n",
      "  meowing/VBG\n",
      "  (NP cat/NN))\n",
      "(S\n",
      "  (NP the/DT man/NN)\n",
      "  wants/VBZ\n",
      "  to/TO\n",
      "  become/VB\n",
      "  (NP assistant/NN managing/VBG director/NN))\n",
      "(S\n",
      "  (NP the/DT man/NN)\n",
      "  wants/VBZ\n",
      "  to/TO\n",
      "  leave/VB\n",
      "  in/IN\n",
      "  (NP July/NNP or/CC August/NNP))\n",
      "(S\n",
      "  (NP Donald/NNP)\n",
      "  fired/VBD\n",
      "  all/PDT\n",
      "  your/PRP$\n",
      "  (NP managers/NNS and/CC supervisors/NNS))\n",
      "(S\n",
      "  (NP company/NN personnel/NN policy/NN)\n",
      "  has/VBZ\n",
      "  always/RB\n",
      "  been/VBN\n",
      "  (NP the/DT law/NN)\n",
      "  that/WDT\n",
      "  rules/VBZ\n",
      "  (NP company/NN courts/NN and/CC adjudicators/NNS))\n"
     ]
    }
   ],
   "source": [
    "sentences = [sentence1, sentence2, sentence3, sentence4, sentence5, sentence6, sentence7, sentence8]\n",
    "\n",
    "for s in sentences:\n",
    "    print(cp.parse(s))"
   ]
  },
  {
   "cell_type": "markdown",
   "metadata": {},
   "source": [
    "### Exercise 4\n",
    "\n",
    "Extend the chunk grammar from Exercise 1 to a multi-stage chunk grammar for a cascaded chunker that produces the following output for the three test sentences:\n",
    "\n",
    "    (S\n",
    "      (NP many/JJ dogs/NNS)\n",
    "      (VP barked/VBD (PP at/IN (NP the/DT cat/NN))))\n",
    "    (S\n",
    "      (NP two/CD dogs/NNS)\n",
    "      (VP barked/VBD (PP at/IN (NP the/DT cat/NN))))\n",
    "    (S\n",
    "      (NP both/DT new/JJ dogs/NNS)\n",
    "      (VP barked/VBD (PP at/IN (NP the/DT cat/NN))))"
   ]
  },
  {
   "cell_type": "code",
   "execution_count": null,
   "metadata": {},
   "outputs": [],
   "source": []
  },
  {
   "cell_type": "markdown",
   "metadata": {},
   "source": [
    "### Exercise 5\n",
    "\n",
    "Extend the multi-stage chunk grammar from Exercise 4 to also cover the test sentences from Exercise 2:\n",
    "\n",
    "    (S\n",
    "      (NP many/JJ dogs/NNS)\n",
    "      (VP barked/VBD (PP at/IN (NP the/DT meowing/VBG cat/NN))))\n",
    "    (S\n",
    "      (NP the/DT man/NN)\n",
    "      (VP\n",
    "        wants/VBZ\n",
    "        (INFCL\n",
    "          to/TO\n",
    "          (VP become/VB (NP assistant/NN managing/VBG director/NN))))) \n"
   ]
  },
  {
   "cell_type": "code",
   "execution_count": null,
   "metadata": {},
   "outputs": [],
   "source": []
  },
  {
   "cell_type": "markdown",
   "metadata": {},
   "source": [
    "### Exercise 6\n",
    "\n",
    "Extend the multi-stage chunk grammar from Exercise 5 to also cover the test sentences from Exercise 3:\n",
    "\n",
    "    (S\n",
    "      (NP the/DT man/NN)\n",
    "      (VP\n",
    "        wants/VBZ\n",
    "        (INFCL\n",
    "          to/TO\n",
    "          (VP leave/VB (PP in/IN (NP July/NNP or/CC August/NNP))))))\n",
    "    (S\n",
    "      (NP Donald/NNP)\n",
    "      (VP\n",
    "        fired/VBD\n",
    "        (NP all/PDT your/PRP$ managers/NNS and/CC supervisors/NNS)))\n",
    "    (S\n",
    "      (NP company/NN personnel/NN policy/NN)\n",
    "      (VP\n",
    "        has/VBZ\n",
    "        always/RB\n",
    "        been/VBN\n",
    "        (NPRC\n",
    "          (NP the/DT law/NN)\n",
    "          (RELCL\n",
    "            that/WDT\n",
    "            (VP\n",
    "              rules/VBZ\n",
    "              (NP company/NN courts/NN and/CC adjudicators/NNS))))))"
   ]
  },
  {
   "cell_type": "code",
   "execution_count": null,
   "metadata": {},
   "outputs": [],
   "source": []
  },
  {
   "cell_type": "markdown",
   "metadata": {},
   "source": [
    "### Exercise 7\n",
    "\n",
    "Select the VP chunks from the \"train\" portion of the CoNLL 2000 Chunking Data Corpus. Create a list of all the tag sequences that occur with each instance of this chunk type. Use a `FreqDist` to display the 100 most common tag sequences.  "
   ]
  },
  {
   "cell_type": "code",
   "execution_count": null,
   "metadata": {},
   "outputs": [],
   "source": []
  }
 ],
 "metadata": {
  "kernelspec": {
   "display_name": "Python 3",
   "language": "python",
   "name": "python3"
  },
  "language_info": {
   "codemirror_mode": {
    "name": "ipython",
    "version": 3
   },
   "file_extension": ".py",
   "mimetype": "text/x-python",
   "name": "python",
   "nbconvert_exporter": "python",
   "pygments_lexer": "ipython3",
   "version": "3.9.7"
  }
 },
 "nbformat": 4,
 "nbformat_minor": 2
}
