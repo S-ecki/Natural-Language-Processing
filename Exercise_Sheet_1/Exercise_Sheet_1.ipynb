{
 "cells": [
  {
   "cell_type": "markdown",
   "metadata": {},
   "source": [
    "# Natural Language Processing\n",
    "\n",
    "## Exercise Sheet 1"
   ]
  },
  {
   "cell_type": "code",
   "execution_count": 3,
   "metadata": {},
   "outputs": [
    {
     "ename": "AttributeError",
     "evalue": "module 'nltk' has no attribute 'download'",
     "output_type": "error",
     "traceback": [
      "\u001b[1;31m---------------------------------------------------------------------------\u001b[0m",
      "\u001b[1;31mAttributeError\u001b[0m                            Traceback (most recent call last)",
      "\u001b[1;32m~\\AppData\\Local\\Temp/ipykernel_6480/2893672472.py\u001b[0m in \u001b[0;36m<module>\u001b[1;34m\u001b[0m\n\u001b[0;32m      1\u001b[0m \u001b[1;31m#imports for all exercises\u001b[0m\u001b[1;33m\u001b[0m\u001b[1;33m\u001b[0m\u001b[0m\n\u001b[0;32m      2\u001b[0m \u001b[1;32mimport\u001b[0m \u001b[0mnltk\u001b[0m\u001b[1;33m\u001b[0m\u001b[1;33m\u001b[0m\u001b[0m\n\u001b[1;32m----> 3\u001b[1;33m \u001b[0mnltk\u001b[0m\u001b[1;33m.\u001b[0m\u001b[0mdownload\u001b[0m\u001b[1;33m(\u001b[0m\u001b[1;33m)\u001b[0m\u001b[1;33m\u001b[0m\u001b[1;33m\u001b[0m\u001b[0m\n\u001b[0m\u001b[0;32m      4\u001b[0m \u001b[1;31m# from nltk.book import *\u001b[0m\u001b[1;33m\u001b[0m\u001b[1;33m\u001b[0m\u001b[0m\n",
      "\u001b[1;31mAttributeError\u001b[0m: module 'nltk' has no attribute 'download'"
     ]
    }
   ],
   "source": [
    "#imports for all exercises\n",
    "import nltk\n",
    "nltk.download()\n",
    "from nltk.book import *"
   ]
  },
  {
   "cell_type": "markdown",
   "metadata": {},
   "source": [
    "### Exercise 1\n",
    "\n",
    "How many words are there in `text2` from `nltk.book`? How many distinct words are there? Calculate the lexical diversity.\n"
   ]
  },
  {
   "cell_type": "markdown",
   "metadata": {},
   "source": [
    "\"words\" can be interpreted multiple way: \n",
    "\n",
    "- We could be simply talking about \"tokens\", which means punctuation etc would also count. <br>\n",
    "- Or we only talk about alphabetic strings"
   ]
  },
  {
   "cell_type": "code",
   "execution_count": 102,
   "metadata": {},
   "outputs": [
    {
     "data": {
      "text/plain": [
       "141576"
      ]
     },
     "execution_count": 102,
     "metadata": {},
     "output_type": "execute_result"
    }
   ],
   "source": [
    "# tokens\n",
    "len(text2)"
   ]
  },
  {
   "cell_type": "code",
   "execution_count": 105,
   "metadata": {},
   "outputs": [
    {
     "data": {
      "text/plain": [
       "120733"
      ]
     },
     "execution_count": 105,
     "metadata": {},
     "output_type": "execute_result"
    }
   ],
   "source": [
    "# alphabetic\n",
    "words = [w for w in text2 if w.isalpha()]\n",
    "len(words)"
   ]
  },
  {
   "cell_type": "markdown",
   "metadata": {},
   "source": [
    "Again, we have to differentiate two possibilities:\n",
    "\n",
    "- case sensitive destinction\n",
    "- case insensitive destinction\n",
    "\n",
    "_Note: We interpret \"words\" as alphabetical here_"
   ]
  },
  {
   "cell_type": "code",
   "execution_count": 106,
   "metadata": {},
   "outputs": [
    {
     "data": {
      "text/plain": [
       "6713"
      ]
     },
     "execution_count": 106,
     "metadata": {},
     "output_type": "execute_result"
    }
   ],
   "source": [
    "# sensitive\n",
    "len(set(words))"
   ]
  },
  {
   "cell_type": "code",
   "execution_count": 113,
   "metadata": {},
   "outputs": [
    {
     "data": {
      "text/plain": [
       "6283"
      ]
     },
     "execution_count": 113,
     "metadata": {},
     "output_type": "execute_result"
    }
   ],
   "source": [
    "# insensitive\n",
    "lower_words = [w.lower() for w in words]\n",
    "len(set(lower_words))"
   ]
  },
  {
   "cell_type": "code",
   "execution_count": 109,
   "metadata": {},
   "outputs": [
    {
     "data": {
      "text/plain": [
       "0.05204045290020127"
      ]
     },
     "execution_count": 109,
     "metadata": {},
     "output_type": "execute_result"
    }
   ],
   "source": [
    "# lexical diversity\n",
    "len(set(lower_words)) / len(lower_words)"
   ]
  },
  {
   "cell_type": "markdown",
   "metadata": {},
   "source": [
    "### Exercise 2\n",
    "\n",
    "Produce a dispersion plot of the four main protagonists in Sense and Sensibility: Elinor, Marianne, Edward, and Willoughby. What can you observe about the different roles played by the males and females in this novel? Can you identify the couples?"
   ]
  },
  {
   "cell_type": "code",
   "execution_count": 6,
   "metadata": {},
   "outputs": [
    {
     "data": {
      "image/png": "[encoded data removed]",
      "text/plain": [
       "<Figure size 432x288 with 1 Axes>"
      ]
     },
     "metadata": {
      "needs_background": "light"
     },
     "output_type": "display_data"
    }
   ],
   "source": [
    "text2.dispersion_plot([\"Elinor\", \"Marianne\", \"Edward\", \"Willoughby\"])"
   ]
  },
  {
   "cell_type": "markdown",
   "metadata": {},
   "source": [
    "First, we can clearly observe that the novel mentions female characters more often than male ones and thus conclude that they are the protagonists.\n",
    "\n",
    "I would assume that **Marianne** and **Willoughby** are a couple, as the latter only appears when Marianne´s occurence is more dense. <br>\n",
    "For the other 2 characters, it is harder to get a clear conclusion, but I assume they are a couple based on the question."
   ]
  },
  {
   "cell_type": "markdown",
   "metadata": {},
   "source": [
    "### Exercise 3\n",
    "\n",
    "Find the collocations in `text6`."
   ]
  },
  {
   "cell_type": "code",
   "execution_count": 67,
   "metadata": {},
   "outputs": [
    {
     "name": "stdout",
     "output_type": "stream",
     "text": [
      "BLACK KNIGHT; clop clop; HEAD KNIGHT; mumble mumble; Holy Grail;\n",
      "squeak squeak; FRENCH GUARD; saw saw; Sir Robin; Run away; CARTOON\n",
      "CHARACTER; King Arthur; Iesu domine; Pie Iesu; DEAD PERSON; Round\n",
      "Table; clap clap; OLD MAN; dramatic chord; dona eis\n"
     ]
    }
   ],
   "source": [
    "text6.collocations()"
   ]
  },
  {
   "cell_type": "markdown",
   "metadata": {},
   "source": [
    "### Exercise 4\n",
    "\n",
    "Use only the `index()` function to find all the indexes of the word \"sunset\" in `text9`."
   ]
  },
  {
   "cell_type": "code",
   "execution_count": 100,
   "metadata": {},
   "outputs": [
    {
     "data": {
      "text/plain": [
       "[629,\n",
       " 642,\n",
       " 1432,\n",
       " 1650,\n",
       " 13335,\n",
       " 13381,\n",
       " 16313,\n",
       " 27014,\n",
       " 49340,\n",
       " 52092,\n",
       " 60857,\n",
       " 60862,\n",
       " 64721,\n",
       " 64736]"
      ]
     },
     "execution_count": 100,
     "metadata": {},
     "output_type": "execute_result"
    }
   ],
   "source": [
    "# index() only finds first, so we construct a function to find all indices\n",
    "def getIndices(text, word):\n",
    "    word_list = list(text)\n",
    "    indices = []\n",
    "    # used to start after found index to avoid always finding first\n",
    "    offset = 0\n",
    "    \n",
    "    # loops the number of times given word occurs to find all indices\n",
    "    for i in range(word_list.count(word)):\n",
    "        new_index = word_list.index(word, offset)\n",
    "        indices.append(new_index)\n",
    "        # start next loop one index after last found\n",
    "        offset = new_index + 1\n",
    "\n",
    "    return indices\n",
    "\n",
    "getIndices(text9, \"sunset\")"
   ]
  },
  {
   "cell_type": "markdown",
   "metadata": {},
   "source": [
    "### Exercise 5\n",
    "\n",
    "What is the difference between the following two lines? Calculate the two values:\n",
    "\n",
    "    len(sorted(set(w.lower() for w in text1)))\n",
    "    len(sorted(w.lower() for w in set(text1)))"
   ]
  },
  {
   "cell_type": "code",
   "execution_count": 115,
   "metadata": {},
   "outputs": [
    {
     "data": {
      "text/plain": [
       "17231"
      ]
     },
     "execution_count": 115,
     "metadata": {},
     "output_type": "execute_result"
    }
   ],
   "source": [
    "len(sorted(set(w.lower() for w in text1)))"
   ]
  },
  {
   "cell_type": "markdown",
   "metadata": {},
   "source": [
    "The above line does following:\n",
    "- take all tokens from text 1\n",
    "- convert them to lowercase\n",
    "- create a set (only distinct tokens)\n",
    "- sort them by alphabetical order (makes no difference for result)\n",
    "- counts the length of tokens in the set\n",
    "\n",
    "We could say it counts distinct occurance of words disregarding cases"
   ]
  },
  {
   "cell_type": "code",
   "execution_count": 119,
   "metadata": {},
   "outputs": [
    {
     "data": {
      "text/plain": [
       "19317"
      ]
     },
     "execution_count": 119,
     "metadata": {},
     "output_type": "execute_result"
    }
   ],
   "source": [
    "\n",
    "len(sorted(w.lower() for w in set(text1)))"
   ]
  },
  {
   "cell_type": "markdown",
   "metadata": {},
   "source": [
    "The above line does following:\n",
    "- creates a set from from the words in text 1\n",
    "- convert them to lowercase AFTERWARDS\n",
    "- sort them by alphabetical order\n",
    "- counts the length of tokens\n",
    "\n",
    "The difference is that this result could contain words like \"The\" and \"the\" twice, thus the number is higher than with the previous example. This is because the set is formed before converting to lowercase"
   ]
  },
  {
   "cell_type": "markdown",
   "metadata": {},
   "source": [
    "### Exercise 6\n",
    "\n",
    "Write the slice expression that extracts the last two words of `text2`."
   ]
  },
  {
   "cell_type": "code",
   "execution_count": 47,
   "metadata": {},
   "outputs": [
    {
     "data": {
      "text/plain": [
       "['THE', 'END']"
      ]
     },
     "execution_count": 47,
     "metadata": {},
     "output_type": "execute_result"
    }
   ],
   "source": [
    "text2[-2:]"
   ]
  },
  {
   "cell_type": "markdown",
   "metadata": {},
   "source": [
    "### Exercise 7\n",
    "\n",
    "Find all the four-letter words in `text6`. With the help of a frequency distribution (`FreqDist`), show these words in decreasing order of frequency.\n"
   ]
  },
  {
   "cell_type": "code",
   "execution_count": 71,
   "metadata": {},
   "outputs": [
    {
     "data": {
      "text/plain": [
       "[('that', 84),\n",
       " ('your', 75),\n",
       " ('What', 65),\n",
       " ('this', 59),\n",
       " ('Well', 54),\n",
       " ('HEAD', 54),\n",
       " ('have', 53),\n",
       " ('boom', 45),\n",
       " ('clop', 39),\n",
       " ('with', 38),\n",
       " ('away', 38),\n",
       " ('here', 34),\n",
       " ('Burn', 32),\n",
       " ('King', 27),\n",
       " ('what', 27),\n",
       " ('Come', 26),\n",
       " ('just', 25),\n",
       " ('tell', 24),\n",
       " ('Look', 24),\n",
       " ('Holy', 24),\n",
       " ('must', 23),\n",
       " ('will', 22),\n",
       " ('That', 22),\n",
       " ('dead', 22),\n",
       " ('from', 20),\n",
       " ('they', 18),\n",
       " ('come', 18),\n",
       " ('very', 17),\n",
       " ('know', 17),\n",
       " ('name', 17),\n",
       " ('were', 16),\n",
       " ('Stop', 16),\n",
       " ('then', 15),\n",
       " ('like', 15),\n",
       " ('into', 15),\n",
       " ('clap', 15),\n",
       " ('ZOOT', 14),\n",
       " ('them', 13),\n",
       " ('CART', 13),\n",
       " ('want', 13),\n",
       " ('more', 13),\n",
       " ('when', 12),\n",
       " ('Shut', 12),\n",
       " ('make', 12),\n",
       " ('sure', 12),\n",
       " ('land', 11),\n",
       " ('mean', 11),\n",
       " ('take', 11),\n",
       " ('much', 11),\n",
       " ('didn', 11),\n",
       " ('find', 11),\n",
       " ('good', 11),\n",
       " ('time', 11),\n",
       " ('room', 11),\n",
       " ('seek', 10),\n",
       " ('back', 10),\n",
       " ('rewr', 10),\n",
       " ('king', 10),\n",
       " ('Just', 10),\n",
       " ('Iesu', 10),\n",
       " ('LEFT', 10),\n",
       " ('only', 9),\n",
       " ('Lord', 9),\n",
       " ('thou', 9),\n",
       " ('Zoot', 9),\n",
       " ('Hold', 9),\n",
       " ('They', 8),\n",
       " ('thud', 8),\n",
       " ('DEAD', 8),\n",
       " ('nice', 8),\n",
       " ('some', 8),\n",
       " ('Then', 8),\n",
       " ('does', 8),\n",
       " ('dona', 8),\n",
       " ('Yeah', 8),\n",
       " ('This', 8),\n",
       " ('well', 8),\n",
       " ('cave', 8),\n",
       " ('said', 8),\n",
       " ('join', 7),\n",
       " ('yeah', 7),\n",
       " ('down', 7),\n",
       " ('hear', 7),\n",
       " ('sing', 7),\n",
       " ('last', 7),\n",
       " ('Oooh', 7),\n",
       " ('been', 7),\n",
       " ('look', 7),\n",
       " ('seen', 7),\n",
       " ('word', 7),\n",
       " ('five', 6),\n",
       " ('feel', 6),\n",
       " ('live', 6),\n",
       " ('Back', 6),\n",
       " ('stay', 6),\n",
       " ('howl', 5),\n",
       " ('call', 5),\n",
       " ('help', 5),\n",
       " ('give', 5),\n",
       " ('stop', 5),\n",
       " ('bonk', 5),\n",
       " ('nose', 5),\n",
       " ('wood', 5),\n",
       " ('Good', 5),\n",
       " ('duck', 5),\n",
       " ('else', 5),\n",
       " ('head', 5),\n",
       " ('kill', 5),\n",
       " ('door', 5),\n",
       " ('upon', 5),\n",
       " ('roar', 5),\n",
       " ('beat', 4),\n",
       " ('Here', 4),\n",
       " ('whop', 4),\n",
       " ('over', 4),\n",
       " ('many', 4),\n",
       " ('pass', 4),\n",
       " ('kick', 4),\n",
       " ('burn', 4),\n",
       " ('ways', 4),\n",
       " ('made', 4),\n",
       " ('same', 4),\n",
       " ('life', 4),\n",
       " ('idea', 4),\n",
       " ('than', 4),\n",
       " ('each', 4),\n",
       " ('shut', 4),\n",
       " ('lies', 4),\n",
       " ('open', 4),\n",
       " ('four', 4),\n",
       " ('whom', 4),\n",
       " ('keep', 4),\n",
       " ('note', 4),\n",
       " ('most', 4),\n",
       " ('hand', 4),\n",
       " ('path', 4),\n",
       " ('Hand', 4),\n",
       " ('wind', 3),\n",
       " ('Halt', 3),\n",
       " ('lord', 3),\n",
       " ('Will', 3),\n",
       " ('...]', 3),\n",
       " ('says', 3),\n",
       " ('soon', 3),\n",
       " ('fine', 3),\n",
       " ('long', 3),\n",
       " ('lost', 3),\n",
       " ('ever', 3),\n",
       " ('sort', 3),\n",
       " ('case', 3),\n",
       " ('went', 3),\n",
       " ('Aaah', 3),\n",
       " ('Have', 3),\n",
       " ('Tell', 3),\n",
       " ('pond', 3),\n",
       " ('fair', 3),\n",
       " ('hall', 3),\n",
       " ('talk', 3),\n",
       " ('eyes', 3),\n",
       " ('show', 3),\n",
       " ('rrrr', 3),\n",
       " ('leap', 3),\n",
       " ('WIFE', 3),\n",
       " ('Tale', 3),\n",
       " ('Wayy', 3),\n",
       " ('need', 3),\n",
       " ('sigh', 3),\n",
       " ('oral', 3),\n",
       " ('foul', 3),\n",
       " ('sank', 3),\n",
       " ('fell', 3),\n",
       " ('Make', 3),\n",
       " ('died', 3),\n",
       " ('knew', 3),\n",
       " ('best', 3),\n",
       " ('ecky', 3),\n",
       " ('Hang', 3),\n",
       " ('Pull', 2),\n",
       " ('Wait', 2),\n",
       " ('line', 2),\n",
       " ('held', 2),\n",
       " ('such', 2),\n",
       " ('next', 2),\n",
       " ('shit', 2),\n",
       " ('lady', 2),\n",
       " ('told', 2),\n",
       " ('vote', 2),\n",
       " ('Aagh', 2),\n",
       " ('None', 2),\n",
       " ('left', 2),\n",
       " ('mine', 2),\n",
       " ('Thee', 2),\n",
       " ('Augh', 2),\n",
       " ('newt', 2),\n",
       " ('also', 2),\n",
       " ('Lead', 2),\n",
       " ('wise', 2),\n",
       " ('home', 2),\n",
       " ('able', 2),\n",
       " ('With', 2),\n",
       " ('busy', 2),\n",
       " ('push', 2),\n",
       " ('task', 2),\n",
       " ('dark', 2),\n",
       " ('Allo', 2),\n",
       " ('food', 2),\n",
       " ('sons', 2),\n",
       " ('blow', 2),\n",
       " ('Quoi', 2),\n",
       " ('Over', 2),\n",
       " ('rode', 2),\n",
       " ('work', 2),\n",
       " ('When', 2),\n",
       " ('Open', 2),\n",
       " ('rest', 2),\n",
       " ('used', 2),\n",
       " ('once', 2),\n",
       " ('real', 2),\n",
       " ('ours', 2),\n",
       " ('ARMY', 2),\n",
       " ('Neee', 2),\n",
       " ('daft', 2),\n",
       " ('girl', 2),\n",
       " ('huge', 2),\n",
       " ('even', 2),\n",
       " ('fold', 2),\n",
       " ('Tall', 2),\n",
       " ('vain', 2),\n",
       " ('pull', 2),\n",
       " ('cost', 2),\n",
       " ('Very', 2),\n",
       " ('holy', 2),\n",
       " ('test', 2),\n",
       " ('tree', 2),\n",
       " ('done', 2),\n",
       " ('high', 2),\n",
       " ('fire', 2),\n",
       " ('Fine', 2),\n",
       " ('rock', 2),\n",
       " ('Keep', 2),\n",
       " ('Bors', 2),\n",
       " ('BORS', 2),\n",
       " ('tiny', 2),\n",
       " ('Amen', 2),\n",
       " ('side', 2),\n",
       " ('Blue', 2),\n",
       " ('folk', 2),\n",
       " ('KING', 1),\n",
       " ('Whoa', 1),\n",
       " ('goes', 1),\n",
       " ('zone', 1),\n",
       " ('grip', 1),\n",
       " ('husk', 1),\n",
       " ('bird', 1),\n",
       " ('[...', 1),\n",
       " ('cart', 1),\n",
       " ('baby', 1),\n",
       " ('hang', 1),\n",
       " ('nine', 1),\n",
       " ('walk', 1),\n",
       " ('Must', 1),\n",
       " ('hasn', 1),\n",
       " ('self', 1),\n",
       " ('week', 1),\n",
       " ('Lady', 1),\n",
       " ('Lake', 1),\n",
       " ('clad', 1),\n",
       " ('tart', 1),\n",
       " ('bint', 1),\n",
       " ('Help', 1),\n",
       " ('stab', 1),\n",
       " ('move', 1),\n",
       " ('Your', 1),\n",
       " ('liar', 1),\n",
       " ('arms', 1),\n",
       " ('draw', 1),\n",
       " ('bite', 1),\n",
       " ('legs', 1),\n",
       " ('wart', 1),\n",
       " ('More', 1),\n",
       " ('Wood', 1),\n",
       " ('True', 1),\n",
       " ('Does', 1),\n",
       " ('sink', 1),\n",
       " ('Pure', 1),\n",
       " ('Hill', 1),\n",
       " ('film', 1),\n",
       " ('band', 1),\n",
       " ('ride', 1),\n",
       " ('dine', 1),\n",
       " ('spam', 1),\n",
       " ('pram', 1),\n",
       " ('horn', 1),\n",
       " ('keen', 1),\n",
       " ('Mind', 1),\n",
       " ('dogs', 1),\n",
       " ('boil', 1),\n",
       " ('fart', 1),\n",
       " ('mooo', 1),\n",
       " ('tear', 1),\n",
       " ('plan', 1),\n",
       " ('bang', 1),\n",
       " ('bois', 1),\n",
       " ('wait', 1),\n",
       " ('took', 1),\n",
       " ('bold', 1),\n",
       " ('pulp', 1),\n",
       " ('body', 1),\n",
       " ('lads', 1),\n",
       " ('ugly', 1),\n",
       " ('tail', 1),\n",
       " ('fled', 1),\n",
       " ('feet', 1),\n",
       " ('heeh', 1),\n",
       " ('wayy', 1),\n",
       " ('Oooo', 1),\n",
       " ('Away', 1),\n",
       " ('beds', 1),\n",
       " ('warm', 1),\n",
       " ('soft', 1),\n",
       " ('Mine', 1),\n",
       " ('seem', 1),\n",
       " ('dull', 1),\n",
       " ('half', 1),\n",
       " ('twin', 1),\n",
       " ('evil', 1),\n",
       " ('boys', 1),\n",
       " ('glad', 1),\n",
       " ('wasn', 1),\n",
       " ('deal', 1),\n",
       " ('cope', 1),\n",
       " ('nick', 1),\n",
       " ('face', 1),\n",
       " ('duty', 1),\n",
       " ('clue', 1),\n",
       " ('aren', 1),\n",
       " ('oooh', 1),\n",
       " ('Seek', 1),\n",
       " ('Peng', 1),\n",
       " ('tale', 1),\n",
       " ('song', 1),\n",
       " ('owns', 1),\n",
       " ('rich', 1),\n",
       " ('suit', 1),\n",
       " ('Most', 1),\n",
       " ('kind', 1),\n",
       " ('sign', 1),\n",
       " ('Stay', 1),\n",
       " ('send', 1),\n",
       " ('ptoo', 1),\n",
       " ('hadn', 1),\n",
       " ('jump', 1),\n",
       " ('rope', 1),\n",
       " ('Didn', 1),\n",
       " ('dear', 1),\n",
       " ('main', 1),\n",
       " ('hell', 1),\n",
       " ('bond', 1),\n",
       " ('near', 1),\n",
       " ('felt', 1),\n",
       " ('Uugh', 1),\n",
       " ('uuup', 1),\n",
       " ('Heee', 1),\n",
       " ('town', 1),\n",
       " ('sent', 1),\n",
       " ('Aggh', 1),\n",
       " ('Even', 1),\n",
       " ('sell', 1),\n",
       " ('Ecky', 1),\n",
       " ('zoop', 1),\n",
       " ('owli', 1),\n",
       " ('zhiv', 1),\n",
       " ('Said', 1),\n",
       " ('vary', 1),\n",
       " ('year', 1),\n",
       " ('gave', 1),\n",
       " ('miss', 1),\n",
       " ('snap', 1),\n",
       " ('Ages', 1),\n",
       " ('Umhm', 1),\n",
       " ('...?', 1),\n",
       " ('full', 1),\n",
       " ('lair', 1),\n",
       " ('sire', 1),\n",
       " ('foot', 1),\n",
       " ('late', 1),\n",
       " ('mile', 1),\n",
       " ('wide', 1),\n",
       " ('mate', 1),\n",
       " ('Chop', 1),\n",
       " ('stew', 1),\n",
       " ('lose', 1),\n",
       " ('risk', 1),\n",
       " ('Like', 1),\n",
       " ('bows', 1),\n",
       " ('Book', 1),\n",
       " ('Nine', 1),\n",
       " ('bits', 1),\n",
       " ('grin', 1),\n",
       " ('carp', 1),\n",
       " ('bats', 1),\n",
       " ('Skip', 1),\n",
       " ('less', 1),\n",
       " ('Four', 1),\n",
       " ('Five', 1),\n",
       " ('Once', 1),\n",
       " ('pure', 1),\n",
       " (\"'...\", 1),\n",
       " ('Ives', 1),\n",
       " ('eats', 1),\n",
       " ('asks', 1),\n",
       " ('cast', 1),\n",
       " ('east', 1),\n",
       " ('pray', 1),\n",
       " ('luck', 1),\n",
       " ('easy', 1),\n",
       " ('Thou', 1),\n",
       " ('hast', 1),\n",
       " ('dare', 1),\n",
       " ('bent', 1),\n",
       " ('wave', 1),\n",
       " ('tops', 1),\n",
       " ('haaa', 1),\n",
       " ('Walk', 1),\n",
       " ('gone', 1),\n",
       " ('ones', 1),\n",
       " ('pack', 1)]"
      ]
     },
     "execution_count": 71,
     "metadata": {},
     "output_type": "execute_result"
    }
   ],
   "source": [
    "words = [w for w in text6 if len(w) == 4]\n",
    "wordsDist = FreqDist(words)\n",
    "wordsDist.most_common()"
   ]
  },
  {
   "cell_type": "markdown",
   "metadata": {},
   "source": [
    "### Exercise 8\n",
    "\n",
    "Create a set for the words in `text6`. Use a `for` and an `if` statement to loop over the words in the set and print all titlecased words with more than one character, one per line.\n"
   ]
  },
  {
   "cell_type": "code",
   "execution_count": 76,
   "metadata": {},
   "outputs": [
    {
     "data": {
      "text/plain": [
       "['Back',\n",
       " 'Tis',\n",
       " 'Hyy',\n",
       " 'Aaagh',\n",
       " 'Lake',\n",
       " 'Shh',\n",
       " 'Packing',\n",
       " 'Mercea',\n",
       " 'Dis',\n",
       " 'Robin',\n",
       " 'Knights',\n",
       " 'Galahad',\n",
       " 'Lucky',\n",
       " 'Running',\n",
       " 'Psalms',\n",
       " 'Steady',\n",
       " 'Dennis',\n",
       " 'Thppppt',\n",
       " 'Actually',\n",
       " 'She',\n",
       " 'Peng',\n",
       " 'Aaauugh',\n",
       " 'Himself',\n",
       " 'Will',\n",
       " 'Apples',\n",
       " 'Really',\n",
       " 'Even',\n",
       " 'Jesus',\n",
       " 'Hah',\n",
       " 'Aauuuves',\n",
       " 'Britons',\n",
       " 'Torment',\n",
       " 'Umhm',\n",
       " 'Great',\n",
       " 'Mind',\n",
       " 'Too',\n",
       " 'We',\n",
       " 'Gable',\n",
       " 'Summer',\n",
       " 'Chapter',\n",
       " 'Beast',\n",
       " 'Ho',\n",
       " 'Badon',\n",
       " 'Pull',\n",
       " 'Erm',\n",
       " 'Bloody',\n",
       " 'Battle',\n",
       " 'Open',\n",
       " 'Assyria',\n",
       " 'Dappy',\n",
       " 'Schools',\n",
       " 'Yup',\n",
       " 'Uh',\n",
       " 'Mmm',\n",
       " 'Be',\n",
       " 'European',\n",
       " 'He',\n",
       " 'Is',\n",
       " 'Cider',\n",
       " 'Ninepence',\n",
       " 'Surely',\n",
       " 'Keep',\n",
       " 'Bones',\n",
       " 'Hee',\n",
       " 'The',\n",
       " 'Splendid',\n",
       " 'Caerbannog',\n",
       " 'Alice',\n",
       " 'Aaaaaaaah',\n",
       " 'Yeah',\n",
       " 'Meanwhile',\n",
       " 'Heh',\n",
       " 'Together',\n",
       " 'Defeat',\n",
       " 'Quick',\n",
       " 'True',\n",
       " 'How',\n",
       " 'Behold',\n",
       " 'Chop',\n",
       " 'Pie',\n",
       " 'Attila',\n",
       " 'Our',\n",
       " 'Black',\n",
       " 'Explain',\n",
       " 'Sorry',\n",
       " 'At',\n",
       " 'Use',\n",
       " 'Woa',\n",
       " 'Zoot',\n",
       " 'Herbert',\n",
       " 'Today',\n",
       " 'Let',\n",
       " 'Very',\n",
       " 'Monsieur',\n",
       " 'Seek',\n",
       " 'Huy',\n",
       " 'Old',\n",
       " 'Put',\n",
       " 'Tall',\n",
       " 'Iesu',\n",
       " 'Why',\n",
       " 'Victory',\n",
       " 'Bring',\n",
       " 'Tim',\n",
       " 'Christ',\n",
       " 'Gorge',\n",
       " 'Waa',\n",
       " 'Ayy',\n",
       " 'Picture',\n",
       " 'Aauuuuugh',\n",
       " 'Bravely',\n",
       " 'Clear',\n",
       " 'English',\n",
       " 'Yeaaah',\n",
       " 'Burn',\n",
       " 'Stand',\n",
       " 'By',\n",
       " 'Look',\n",
       " 'You',\n",
       " 'Ecky',\n",
       " 'Blue',\n",
       " 'Silence',\n",
       " 'Nine',\n",
       " 'Iiiiives',\n",
       " 'Brave',\n",
       " 'Like',\n",
       " 'May',\n",
       " 'Of',\n",
       " 'Til',\n",
       " 'Hooray',\n",
       " 'Quickly',\n",
       " 'Arthur',\n",
       " 'Try',\n",
       " 'Excuse',\n",
       " 'Could',\n",
       " 'They',\n",
       " 'Ewing',\n",
       " 'Silly',\n",
       " 'Fine',\n",
       " 'Those',\n",
       " 'Excalibur',\n",
       " 'Ask',\n",
       " 'Stop',\n",
       " 'Four',\n",
       " 'Aauuugh',\n",
       " 'Castle',\n",
       " 'And',\n",
       " 'Message',\n",
       " 'Piglet',\n",
       " 'Providence',\n",
       " 'Unfortunately',\n",
       " 'Saint',\n",
       " 'Your',\n",
       " 'Far',\n",
       " 'Hm',\n",
       " 'Cherries',\n",
       " 'Prince',\n",
       " 'Dragon',\n",
       " 'Yeaah',\n",
       " 'Beyond',\n",
       " 'Forgive',\n",
       " 'Grail',\n",
       " 'Thursday',\n",
       " 'Fiends',\n",
       " 'Come',\n",
       " 'Olfin',\n",
       " 'It',\n",
       " 'Greetings',\n",
       " 'Hiyah',\n",
       " 'Augh',\n",
       " 'Leaving',\n",
       " 'Winston',\n",
       " 'Haw',\n",
       " 'Rather',\n",
       " 'Wood',\n",
       " 'Um',\n",
       " 'Speak',\n",
       " 'Uugh',\n",
       " 'Which',\n",
       " 'Ah',\n",
       " 'That',\n",
       " 'This',\n",
       " 'Ages',\n",
       " 'Book',\n",
       " 'Therefore',\n",
       " 'Five',\n",
       " 'Every',\n",
       " 'Oooo',\n",
       " 'Hmm',\n",
       " 'Aramaic',\n",
       " 'Right',\n",
       " 'Ni',\n",
       " 'On',\n",
       " 'Antioch',\n",
       " 'Away',\n",
       " 'Halt',\n",
       " 'Concorde',\n",
       " 'Bridge',\n",
       " 'Anthrax',\n",
       " 'Arimathea',\n",
       " 'Thsss',\n",
       " 'Good',\n",
       " 'Ooh',\n",
       " 'Isn',\n",
       " 'Course',\n",
       " 'Neee',\n",
       " 'Well',\n",
       " 'Supreme',\n",
       " 'Auuuuuuuugh',\n",
       " 'But',\n",
       " 'Pin',\n",
       " 'Nothing',\n",
       " 'Idiom',\n",
       " 'Round',\n",
       " 'Morning',\n",
       " 'Please',\n",
       " 'Thank',\n",
       " 'Ives',\n",
       " 'See',\n",
       " 'Lie',\n",
       " 'Aggh',\n",
       " 'Farewell',\n",
       " 'Mine',\n",
       " 'Shrubberies',\n",
       " 'With',\n",
       " 'Agh',\n",
       " 'Said',\n",
       " 'Nador',\n",
       " 'Didn',\n",
       " 'Oooooooh',\n",
       " 'So',\n",
       " 'Hill',\n",
       " 'Remove',\n",
       " 'Chaste',\n",
       " 'Other',\n",
       " 'Oooohoohohooo',\n",
       " 'Aah',\n",
       " 'Tale',\n",
       " 'Yes',\n",
       " 'Did',\n",
       " 'Must',\n",
       " 'Quite',\n",
       " 'Cornwall',\n",
       " 'Britain',\n",
       " 'Eternal',\n",
       " 'There',\n",
       " 'Build',\n",
       " 'Princess',\n",
       " 'All',\n",
       " 'Go',\n",
       " 'His',\n",
       " 'Off',\n",
       " 'Man',\n",
       " 'Nay',\n",
       " 'Midget',\n",
       " 'Bread',\n",
       " 'French',\n",
       " 'Follow',\n",
       " 'Thy',\n",
       " 'Hiyya',\n",
       " 'To',\n",
       " 'Brother',\n",
       " 'Riiight',\n",
       " 'Shrubber',\n",
       " 'Shall',\n",
       " 'Anarcho',\n",
       " 'Bravest',\n",
       " 'Winter',\n",
       " 'Aaaaaaaaah',\n",
       " 'Everything',\n",
       " 'Holy',\n",
       " 'Mother',\n",
       " 'Say',\n",
       " 'Camaaaaaargue',\n",
       " 'Bedevere',\n",
       " 'Crapper',\n",
       " 'No',\n",
       " 'Bad',\n",
       " 'Gallahad',\n",
       " 'Thpppt',\n",
       " 'Nu',\n",
       " 'Two',\n",
       " 'Until',\n",
       " 'Once',\n",
       " 'Eh',\n",
       " 'Anyway',\n",
       " 'Hic',\n",
       " 'Ector',\n",
       " 'Hang',\n",
       " 'Throw',\n",
       " 'Wait',\n",
       " 'Run',\n",
       " 'Don',\n",
       " 'Recently',\n",
       " 'For',\n",
       " 'Uhh',\n",
       " 'Anybody',\n",
       " 'Hello',\n",
       " 'Huh',\n",
       " 'Shut',\n",
       " 'Hiyaah',\n",
       " 'As',\n",
       " 'Three',\n",
       " 'Fetchez',\n",
       " 'Autumn',\n",
       " 'Armaments',\n",
       " 'Pendragon',\n",
       " 'King',\n",
       " 'Not',\n",
       " 'What',\n",
       " 'Twenty',\n",
       " 'Bristol',\n",
       " 'My',\n",
       " 'England',\n",
       " 'Bon',\n",
       " 'Chickennn',\n",
       " 'Thee',\n",
       " 'Pure',\n",
       " 'Peril',\n",
       " 'Hallo',\n",
       " 'Now',\n",
       " 'Oh',\n",
       " 'Patsy',\n",
       " 'Never',\n",
       " 'Aaaugh',\n",
       " 'Wayy',\n",
       " 'Am',\n",
       " 'Whoa',\n",
       " 'Thppt',\n",
       " 'Dingo',\n",
       " 'Ridden',\n",
       " 'Are',\n",
       " 'Order',\n",
       " 'Guards',\n",
       " 'Aaaaugh',\n",
       " 'Chicken',\n",
       " 'Death',\n",
       " 'Found',\n",
       " 'Court',\n",
       " 'Huyah',\n",
       " 'Aauuggghhh',\n",
       " 'Camelot',\n",
       " 'Bors',\n",
       " 'Just',\n",
       " 'Who',\n",
       " 'Looks',\n",
       " 'Then',\n",
       " 'Robinson',\n",
       " 'Consult',\n",
       " 'Stay',\n",
       " 'If',\n",
       " 'Listen',\n",
       " 'Un',\n",
       " 'Charge',\n",
       " 'Ow',\n",
       " 'Here',\n",
       " 'Knight',\n",
       " 'Aaah',\n",
       " 'Skip',\n",
       " 'Hurry',\n",
       " 'Rheged',\n",
       " 'Almighty',\n",
       " 'Spring',\n",
       " 'Guy',\n",
       " 'Or',\n",
       " 'Aaaaaah',\n",
       " 'Ha',\n",
       " 'Firstly',\n",
       " 'Get',\n",
       " 'Quiet',\n",
       " 'Umm',\n",
       " 'Welcome',\n",
       " 'France',\n",
       " 'Eee',\n",
       " 'Dramatically',\n",
       " 'Thou',\n",
       " 'Mud',\n",
       " 'God',\n",
       " 'Allo',\n",
       " 'Lord',\n",
       " 'Hya',\n",
       " 'Lady',\n",
       " 'Erbert',\n",
       " 'Gawain',\n",
       " 'Frank',\n",
       " 'Yay',\n",
       " 'Grenade',\n",
       " 'Ulk',\n",
       " 'When',\n",
       " 'Tower',\n",
       " 'Supposing',\n",
       " 'Churches',\n",
       " 'Sir',\n",
       " 'Heee',\n",
       " 'Loimbard',\n",
       " 'Uther',\n",
       " 'Yapping',\n",
       " 'Amen',\n",
       " 'An',\n",
       " 'Hoo',\n",
       " 'Joseph',\n",
       " 'Where',\n",
       " 'Walk',\n",
       " 'Tell',\n",
       " 'Maynard',\n",
       " 'Hoa',\n",
       " 'Aagh',\n",
       " 'Doctor',\n",
       " 'Perhaps',\n",
       " 'Clark',\n",
       " 'Quoi',\n",
       " 'Alright',\n",
       " 'Father',\n",
       " 'Divine',\n",
       " 'Over',\n",
       " 'Swamp',\n",
       " 'None',\n",
       " 'Lancelot',\n",
       " 'Oui',\n",
       " 'Saxons',\n",
       " 'Launcelot',\n",
       " 'Prepare',\n",
       " 'Uuh',\n",
       " 'Roger',\n",
       " 'Enchanter',\n",
       " 'Does',\n",
       " 'African',\n",
       " 'Do',\n",
       " 'Practice',\n",
       " 'Aaauggh',\n",
       " 'More',\n",
       " 'Ohh',\n",
       " 'In',\n",
       " 'Iiiives',\n",
       " 'Between',\n",
       " 'Ahh',\n",
       " 'Hand',\n",
       " 'Forward',\n",
       " 'Hold',\n",
       " 'First',\n",
       " 'Bedwere',\n",
       " 'Oooh',\n",
       " 'Action',\n",
       " 'Ay',\n",
       " 'Cut',\n",
       " 'Ere',\n",
       " 'Table',\n",
       " 'Lead',\n",
       " 'Hey',\n",
       " 'Thpppppt',\n",
       " 'Aaaah',\n",
       " 'Exactly',\n",
       " 'Have',\n",
       " 'Help',\n",
       " 'Angnor',\n",
       " 'One',\n",
       " 'Would',\n",
       " 'Make',\n",
       " 'Most',\n",
       " 'Honestly',\n",
       " 'Since']"
      ]
     },
     "execution_count": 76,
     "metadata": {},
     "output_type": "execute_result"
    }
   ],
   "source": [
    "[w for w in set(text6) if w.istitle() and len(w) > 1]"
   ]
  },
  {
   "cell_type": "markdown",
   "metadata": {},
   "source": [
    "### Exercise 9\n",
    "\n",
    "Write expressions for finding all words in `text6` that meet the conditions listed below:\n",
    "\n",
    "a) ending in \"ing\", \n",
    "\n",
    "b) containing the letter \"z\",\n",
    "\n",
    "c) containing the letter sequence \"pt\".\n"
   ]
  },
  {
   "cell_type": "code",
   "execution_count": 133,
   "metadata": {},
   "outputs": [
    {
     "data": {
      "text/plain": [
       "{'Bring',\n",
       " 'Everything',\n",
       " 'Ewing',\n",
       " 'King',\n",
       " 'Leaving',\n",
       " 'Morning',\n",
       " 'Nothing',\n",
       " 'Packing',\n",
       " 'Running',\n",
       " 'Spring',\n",
       " 'Supposing',\n",
       " 'Yapping',\n",
       " 'acting',\n",
       " 'advancing',\n",
       " 'anging',\n",
       " 'anything',\n",
       " 'appearing',\n",
       " 'approaching',\n",
       " 'asking',\n",
       " 'averting',\n",
       " 'bathing',\n",
       " 'being',\n",
       " 'binding',\n",
       " 'bitching',\n",
       " 'blessing',\n",
       " 'boing',\n",
       " 'bring',\n",
       " 'bringing',\n",
       " 'buggering',\n",
       " 'carrying',\n",
       " 'carving',\n",
       " 'chanting',\n",
       " 'chickening',\n",
       " 'coming',\n",
       " 'counting',\n",
       " 'crying',\n",
       " 'dancing',\n",
       " 'daring',\n",
       " 'depressing',\n",
       " 'dictating',\n",
       " 'distributing',\n",
       " 'doing',\n",
       " 'dragging',\n",
       " 'dressing',\n",
       " 'dying',\n",
       " 'enjoying',\n",
       " 'entering',\n",
       " 'everything',\n",
       " 'excepting',\n",
       " 'exciting',\n",
       " 'exploiting',\n",
       " 'fooling',\n",
       " 'getting',\n",
       " 'going',\n",
       " 'groveling',\n",
       " 'guiding',\n",
       " 'having',\n",
       " 'herring',\n",
       " 'king',\n",
       " 'kneeling',\n",
       " 'laughing',\n",
       " 'learning',\n",
       " 'living',\n",
       " 'looking',\n",
       " 'lying',\n",
       " 'making',\n",
       " 'marrying',\n",
       " 'meeting',\n",
       " 'nothing',\n",
       " 'opening',\n",
       " 'packing',\n",
       " 'passing',\n",
       " 'perpetuating',\n",
       " 'pissing',\n",
       " 'preserving',\n",
       " 'rejoicing',\n",
       " 'repressing',\n",
       " 'resting',\n",
       " 'riding',\n",
       " 'running',\n",
       " 'saying',\n",
       " 'setting',\n",
       " 'shimmering',\n",
       " 'shivering',\n",
       " 'signifying',\n",
       " 'sing',\n",
       " 'singing',\n",
       " 'smashing',\n",
       " 'sneaking',\n",
       " 'something',\n",
       " 'spanking',\n",
       " 'starling',\n",
       " 'string',\n",
       " 'suggesting',\n",
       " 'taking',\n",
       " 'taunting',\n",
       " 'telling',\n",
       " 'thing',\n",
       " 'throwing',\n",
       " 'training',\n",
       " 'understanding',\n",
       " 'undressing',\n",
       " 'using',\n",
       " 'walking',\n",
       " 'warning',\n",
       " 'wedding',\n",
       " 'wetting',\n",
       " 'whispering',\n",
       " 'working',\n",
       " 'wounding',\n",
       " 'writing',\n",
       " 'yelling'}"
      ]
     },
     "execution_count": 133,
     "metadata": {},
     "output_type": "execute_result"
    }
   ],
   "source": [
    "# a\n",
    "set(w for w in text6 if w.endswith(\"ing\"))"
   ]
  },
  {
   "cell_type": "code",
   "execution_count": 134,
   "metadata": {},
   "outputs": [
    {
     "data": {
      "text/plain": [
       "{'Fetchez', 'amazes', 'frozen', 'zhiv', 'zone', 'zoo', 'zoop', 'zoosh'}"
      ]
     },
     "execution_count": 134,
     "metadata": {},
     "output_type": "execute_result"
    }
   ],
   "source": [
    "# b\n",
    "set(w for w in text6 if \"z\" in w)"
   ]
  },
  {
   "cell_type": "code",
   "execution_count": 135,
   "metadata": {},
   "outputs": [
    {
     "data": {
      "text/plain": [
       "{'Chapter',\n",
       " 'Thpppppt',\n",
       " 'Thppppt',\n",
       " 'Thpppt',\n",
       " 'Thppt',\n",
       " 'aptly',\n",
       " 'empty',\n",
       " 'excepting',\n",
       " 'ptoo',\n",
       " 'temptation',\n",
       " 'temptress'}"
      ]
     },
     "execution_count": 135,
     "metadata": {},
     "output_type": "execute_result"
    }
   ],
   "source": [
    "# c \n",
    "set(w for w in text6 if \"pt\" in w)"
   ]
  },
  {
   "cell_type": "markdown",
   "metadata": {},
   "source": [
    "### Exercise 10\n",
    "\n",
    "Define `sent` to be the list of words `['she', 'sells', 'sea', 'shells', 'by', 'the', 'sea', 'shore']`. Now write code to perform the following tasks:\n",
    "\n",
    "a) print all words beginning with \"sh\",\n",
    "\n",
    "b) print all words longer than four characters."
   ]
  },
  {
   "cell_type": "code",
   "execution_count": 137,
   "metadata": {},
   "outputs": [],
   "source": [
    "sent = ['she', 'sells', 'sea', 'shells', 'by', 'the', 'sea', 'shore']"
   ]
  },
  {
   "cell_type": "code",
   "execution_count": 138,
   "metadata": {},
   "outputs": [
    {
     "data": {
      "text/plain": [
       "['she', 'shells', 'shore']"
      ]
     },
     "execution_count": 138,
     "metadata": {},
     "output_type": "execute_result"
    }
   ],
   "source": [
    "# a\n",
    "[w for w in sent if w.startswith(\"sh\")]"
   ]
  },
  {
   "cell_type": "code",
   "execution_count": 139,
   "metadata": {},
   "outputs": [
    {
     "data": {
      "text/plain": [
       "['sells', 'shells', 'shore']"
      ]
     },
     "execution_count": 139,
     "metadata": {},
     "output_type": "execute_result"
    }
   ],
   "source": [
    "# b\n",
    "[w for w in sent if len(w) > 4]"
   ]
  },
  {
   "cell_type": "markdown",
   "metadata": {},
   "source": [
    "### Exercise 11\n",
    "\n",
    "What does the following Python code do? \n",
    "\n",
    "`sum(len(w) for w in text1)`\n",
    "\n",
    "Can you use it to work out the average word length of `text1`?"
   ]
  },
  {
   "cell_type": "markdown",
   "metadata": {},
   "source": [
    "Answer: This code sums up the number of characters in all the \"words\" of text 1 <br>\n",
    "If we divide this number by the word count, we get the average word length"
   ]
  },
  {
   "cell_type": "code",
   "execution_count": 141,
   "metadata": {},
   "outputs": [
    {
     "data": {
      "text/plain": [
       "3.830411128023649"
      ]
     },
     "execution_count": 141,
     "metadata": {},
     "output_type": "execute_result"
    }
   ],
   "source": [
    "sum(len(w) for w in text1) / len(text1)"
   ]
  },
  {
   "cell_type": "markdown",
   "metadata": {},
   "source": [
    "_Note: This disregards the fact that the tokens like \"...\" are considered words by the above code. We could edit the given could to only could alphabetical characters and divide by the number of alphabetical tokens._"
   ]
  },
  {
   "cell_type": "markdown",
   "metadata": {},
   "source": [
    "### Exercise 12\n",
    "\n",
    "Define a function `freq(word, text)` that calculates how often a given word occurs in a text, not using `count()` but a `FreqDist`. Use the function to calculate how often \"promise\" appears in `text4`."
   ]
  },
  {
   "cell_type": "code",
   "execution_count": 48,
   "metadata": {},
   "outputs": [
    {
     "data": {
      "text/plain": [
       "48"
      ]
     },
     "execution_count": 48,
     "metadata": {},
     "output_type": "execute_result"
    }
   ],
   "source": [
    "def freq(word, text):\n",
    "    dist = FreqDist(text)\n",
    "    return dist[word]\n",
    "\n",
    "freq(\"promise\", text4)"
   ]
  }
 ],
 "metadata": {
  "interpreter": {
   "hash": "fd07f1942820ca3e8ba041abc15020134a68dada3655f09eb421fdc1f23ae076"
  },
  "kernelspec": {
   "display_name": "Python 3.9.7 64-bit",
   "name": "python3"
  },
  "language_info": {
   "codemirror_mode": {
    "name": "ipython",
    "version": 3
   },
   "file_extension": ".py",
   "mimetype": "text/x-python",
   "name": "python",
   "nbconvert_exporter": "python",
   "pygments_lexer": "ipython3",
   "version": "3.9.7"
  }
 },
 "nbformat": 4,
 "nbformat_minor": 2
}
